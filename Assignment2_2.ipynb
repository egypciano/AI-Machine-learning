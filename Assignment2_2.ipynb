{
  "nbformat": 4,
  "nbformat_minor": 0,
  "metadata": {
    "colab": {
      "provenance": []
    },
    "kernelspec": {
      "name": "python3",
      "display_name": "Python 3"
    },
    "language_info": {
      "name": "python"
    }
  },
  "cells": [
    {
      "cell_type": "markdown",
      "source": [
        "1. Write a Python program to add an item to a tuple."
      ],
      "metadata": {
        "id": "MV6ZkNWlcpG_"
      }
    },
    {
      "cell_type": "code",
      "source": [
        "tupl_items=(1,2,3,4)\n",
        "new_one =5\n",
        "new_tuple=tupl_items+ (new_one,)\n",
        "print(new_tuple)"
      ],
      "metadata": {
        "colab": {
          "base_uri": "https://localhost:8080/"
        },
        "id": "xa9mtH59cs7q",
        "outputId": "c50810e2-7570-47cb-945d-8e2c0b502a7d"
      },
      "execution_count": null,
      "outputs": [
        {
          "output_type": "stream",
          "name": "stdout",
          "text": [
            "(1, 2, 3, 4, 5)\n"
          ]
        }
      ]
    },
    {
      "cell_type": "markdown",
      "source": [
        "2. Write a Python program to sum all the items in a list."
      ],
      "metadata": {
        "id": "z8LLUnajgPgg"
      }
    },
    {
      "cell_type": "code",
      "source": [
        "lists=[5,6,5,8]\n",
        "print(sum(lists))"
      ],
      "metadata": {
        "colab": {
          "base_uri": "https://localhost:8080/"
        },
        "id": "BbgNAdEtgRQ4",
        "outputId": "3e6cc561-4563-43c2-dcad-c6879b08cc53"
      },
      "execution_count": null,
      "outputs": [
        {
          "output_type": "stream",
          "name": "stdout",
          "text": [
            "24\n"
          ]
        }
      ]
    },
    {
      "cell_type": "markdown",
      "source": [
        "# 3. Write a Python program to multiply all the items in a list."
      ],
      "metadata": {
        "id": "g6NlmCg6gd60"
      }
    },
    {
      "cell_type": "code",
      "source": [
        "lists=[1,2,3,4]\n",
        "product=1\n",
        "for num in lists:\n",
        "  product*=num\n",
        "print(f\"the product of all items is:{product}\")"
      ],
      "metadata": {
        "colab": {
          "base_uri": "https://localhost:8080/"
        },
        "id": "J3puczFpgjhk",
        "outputId": "8ac75500-fe3d-42d3-87f0-0c7a9e8b1b4e"
      },
      "execution_count": null,
      "outputs": [
        {
          "output_type": "stream",
          "name": "stdout",
          "text": [
            "the product of all items is:24\n"
          ]
        }
      ]
    },
    {
      "cell_type": "markdown",
      "source": [
        "Write a Python program to get the smallest number from a list."
      ],
      "metadata": {
        "id": "BqN5b_8erME3"
      }
    },
    {
      "cell_type": "code",
      "source": [
        "lists = [2,5,7,8]\n",
        "smallest_number = min(lists)\n",
        "print(\"the smallest number is :\",smallest_number)"
      ],
      "metadata": {
        "colab": {
          "base_uri": "https://localhost:8080/"
        },
        "id": "nZ2IqbP-rRB0",
        "outputId": "e844f351-bbd0-40b3-9934-e176f5eb5055"
      },
      "execution_count": null,
      "outputs": [
        {
          "output_type": "stream",
          "name": "stdout",
          "text": [
            "the smallest number is : 2\n"
          ]
        }
      ]
    },
    {
      "cell_type": "markdown",
      "source": [
        "5. Write a Python program to get the largest number from a list."
      ],
      "metadata": {
        "id": "J7kIcX4IPQwp"
      }
    },
    {
      "cell_type": "code",
      "source": [
        "lists=[1,2,5,9]\n",
        "largest_numbers = max(lists)\n",
        "print(\"the largest number is :\",largest_numbers)"
      ],
      "metadata": {
        "colab": {
          "base_uri": "https://localhost:8080/"
        },
        "id": "8I-5RnrxPVU3",
        "outputId": "755daf52-6f01-4ef1-fbeb-1663a321880a"
      },
      "execution_count": null,
      "outputs": [
        {
          "output_type": "stream",
          "name": "stdout",
          "text": [
            "the largest number is : 9\n"
          ]
        }
      ]
    },
    {
      "cell_type": "markdown",
      "source": [
        "6. Write a Python program to count the number of strings from a given list of\n",
        "strings."
      ],
      "metadata": {
        "id": "j4UhCp2APqXz"
      }
    },
    {
      "cell_type": "code",
      "source": [
        "list_of_string = [\"apple\",\"bannana\",\"orange\"]\n",
        "count=len(list_of_string)\n",
        "print(\"the count of list of string is :\",count)"
      ],
      "metadata": {
        "colab": {
          "base_uri": "https://localhost:8080/"
        },
        "id": "ZDwyIqfEPxgL",
        "outputId": "ae11a09b-9f67-4c49-e9ad-6e956d13945e"
      },
      "execution_count": null,
      "outputs": [
        {
          "output_type": "stream",
          "name": "stdout",
          "text": [
            "the count of list of string is : 3\n"
          ]
        }
      ]
    },
    {
      "cell_type": "markdown",
      "source": [
        "7. Write a Python program to clone or copy a list"
      ],
      "metadata": {
        "id": "ySko2MuyR4RR"
      }
    },
    {
      "cell_type": "code",
      "source": [
        "list=[1,2,3,4]\n",
        "list2 = [5,6,7]\n",
        "copy_one = list.copy()+list2\n",
        "copy_one[0]=100\n",
        "print(\"orign_list is :\",list)\n",
        "print(\"cloned one is :\",copy_one)\n"
      ],
      "metadata": {
        "colab": {
          "base_uri": "https://localhost:8080/"
        },
        "id": "nSpH03gTSyW1",
        "outputId": "ba617039-3136-4661-a7c1-20116eb49bc0"
      },
      "execution_count": null,
      "outputs": [
        {
          "output_type": "stream",
          "name": "stdout",
          "text": [
            "orign_list is : [1, 2, 3, 4]\n",
            "cloned one is : [100, 2, 3, 4, 5, 6, 7]\n"
          ]
        }
      ]
    },
    {
      "cell_type": "markdown",
      "source": [
        "8. Write a Python program to remove item(s) from a given set."
      ],
      "metadata": {
        "id": "I-Vqz5kIVTYo"
      }
    },
    {
      "cell_type": "code",
      "source": [
        "new_set = {1,2,3,4,5,6}\n",
        "new_set.remove(2)\n",
        "print(new_set)"
      ],
      "metadata": {
        "colab": {
          "base_uri": "https://localhost:8080/"
        },
        "id": "_DiB-XsFVWv_",
        "outputId": "70f32d55-a7cd-45e8-a372-da7cfbdea307"
      },
      "execution_count": null,
      "outputs": [
        {
          "output_type": "stream",
          "name": "stdout",
          "text": [
            "{1, 3, 4, 5, 6}\n"
          ]
        }
      ]
    },
    {
      "cell_type": "markdown",
      "source": [
        "9. Write a Python program to check if a set is a subset of another set."
      ],
      "metadata": {
        "id": "5jA9XJVqVkrt"
      }
    },
    {
      "cell_type": "code",
      "source": [
        "set1={1,2,3,4}\n",
        "set2={1,3,6,4,8,7}\n",
        "is_subset=set1.issubset(set2)\n",
        "print(\"is set1 is asubset of set2:\",is_subset)"
      ],
      "metadata": {
        "colab": {
          "base_uri": "https://localhost:8080/"
        },
        "id": "Iowt614BVzrq",
        "outputId": "1d5543ae-2592-4cef-a9a0-679466da477b"
      },
      "execution_count": null,
      "outputs": [
        {
          "output_type": "stream",
          "name": "stdout",
          "text": [
            "is set1 is asubset of set2: False\n"
          ]
        }
      ]
    },
    {
      "cell_type": "markdown",
      "source": [
        "10. Write a Python program to remove all elements from a given set."
      ],
      "metadata": {
        "id": "H8jdNUp9Zs-A"
      }
    },
    {
      "cell_type": "code",
      "source": [
        "listsss={1,2,3,4,5}\n",
        "new_list=listsss.remove(2)\n",
        "print(listsss)"
      ],
      "metadata": {
        "colab": {
          "base_uri": "https://localhost:8080/"
        },
        "id": "cPd3sL0zd13q",
        "outputId": "b27b6c7e-2cbc-45ed-cc30-013ebab95706"
      },
      "execution_count": null,
      "outputs": [
        {
          "output_type": "stream",
          "name": "stdout",
          "text": [
            "{1, 3, 4, 5}\n"
          ]
        }
      ]
    },
    {
      "cell_type": "markdown",
      "source": [
        "11. Write a Python program to find the maximum and minimum values in a set."
      ],
      "metadata": {
        "id": "qTSC5NqgfFp-"
      }
    },
    {
      "cell_type": "code",
      "source": [
        "my_set = {1,2,3,4,100}\n",
        "print(max(my_set), min(my_set))"
      ],
      "metadata": {
        "colab": {
          "base_uri": "https://localhost:8080/"
        },
        "id": "Ki8MAVazfJB2",
        "outputId": "0869b227-7556-481e-b5ec-a98e9ba19a05"
      },
      "execution_count": null,
      "outputs": [
        {
          "output_type": "stream",
          "name": "stdout",
          "text": [
            "100 1\n"
          ]
        }
      ]
    },
    {
      "cell_type": "markdown",
      "source": [
        "**12**. Write a Python program to find the index of an item in a tuple."
      ],
      "metadata": {
        "id": "clPm2rk4fi-g"
      }
    },
    {
      "cell_type": "code",
      "source": [
        "my_tuple = (1,2,3,4,\"amit\")\n",
        "index = my_tuple.index(\"amit\")\n",
        "print(\"index of item\",index)"
      ],
      "metadata": {
        "colab": {
          "base_uri": "https://localhost:8080/"
        },
        "id": "Co5575jUfylp",
        "outputId": "6f1274cb-4255-46ce-87b1-a1e1a3f642da"
      },
      "execution_count": null,
      "outputs": [
        {
          "output_type": "stream",
          "name": "stdout",
          "text": [
            "index of item 4\n"
          ]
        }
      ]
    },
    {
      "cell_type": "markdown",
      "source": [
        "13. Write a Python program to convert a tuple to a dictionary."
      ],
      "metadata": {
        "id": "pOMunbGAiLLC"
      }
    },
    {
      "cell_type": "code",
      "source": [
        "my_tuple = ((\"amit\",3),(\"key\",5))\n",
        "my_new_dict = dict(my_tuple)\n",
        "print(my_new_dict)\n"
      ],
      "metadata": {
        "colab": {
          "base_uri": "https://localhost:8080/"
        },
        "id": "CEJOyF8RiPAz",
        "outputId": "cb65ad37-68c2-4e8a-9338-4a0dec8d9c29"
      },
      "execution_count": null,
      "outputs": [
        {
          "output_type": "stream",
          "name": "stdout",
          "text": [
            "{'amit': 3, 'key': 5}\n"
          ]
        }
      ]
    },
    {
      "cell_type": "markdown",
      "source": [
        "14. Write a Python program to unzip a list of tuples into individual lists."
      ],
      "metadata": {
        "id": "sjODk5mZjm7u"
      }
    },
    {
      "cell_type": "code",
      "source": [
        "def unzip_list_of_tuples(tuples_list):\n",
        "    return list(map(list, zip(*tuples_list)))\n",
        "\n",
        "example_list_of_tuples = [(1, 'a', True), (2, 'b', False), (3, 'c', True)]\n",
        "unzipped = unzip_list_of_tuples(example_list_of_tuples)\n",
        "print(unzipped)"
      ],
      "metadata": {
        "id": "8vmF5bcqkHXg",
        "colab": {
          "base_uri": "https://localhost:8080/"
        },
        "outputId": "24d335f9-648e-4ceb-fdbd-377aa74edf71"
      },
      "execution_count": 1,
      "outputs": [
        {
          "output_type": "stream",
          "name": "stdout",
          "text": [
            "[[1, 2, 3], ['a', 'b', 'c'], [True, False, True]]\n"
          ]
        }
      ]
    },
    {
      "cell_type": "markdown",
      "source": [],
      "metadata": {
        "id": "nD4I-X5lkbOW"
      }
    },
    {
      "cell_type": "markdown",
      "source": [
        "15. Write a Python program to reverse a tuple."
      ],
      "metadata": {
        "id": "q1nsjWfDkdhD"
      }
    },
    {
      "cell_type": "code",
      "source": [
        "my_tuple = (1,2,3,4,\"ammit\")\n",
        "reverse_one = tuple(reversed(my_tuple))\n",
        "print(reverse_one)"
      ],
      "metadata": {
        "colab": {
          "base_uri": "https://localhost:8080/"
        },
        "id": "J6GgveRskhUN",
        "outputId": "5fd7ef14-6360-401c-9582-56464e2366dc"
      },
      "execution_count": null,
      "outputs": [
        {
          "output_type": "stream",
          "name": "stdout",
          "text": [
            "('ammit', 4, 3, 2, 1)\n"
          ]
        }
      ]
    },
    {
      "cell_type": "markdown",
      "source": [
        "16. Write a Python program to convert a list of tuples into a dictionary."
      ],
      "metadata": {
        "id": "LVjxJTZomRAG"
      }
    },
    {
      "cell_type": "code",
      "source": [
        "my_list =[(\"key1\",1),(\"key2\",2),(\"key3\",3)]\n",
        "print(dict(my_list))"
      ],
      "metadata": {
        "colab": {
          "base_uri": "https://localhost:8080/"
        },
        "id": "w5Kc0EgMpD8O",
        "outputId": "63cafd2e-de14-4115-8c8b-5c9058359bfa"
      },
      "execution_count": null,
      "outputs": [
        {
          "output_type": "stream",
          "name": "stdout",
          "text": [
            "{'key1': 1, 'key2': 2, 'key3': 3}\n"
          ]
        }
      ]
    },
    {
      "cell_type": "markdown",
      "source": [
        "\\17. Write a Python program to replace the last value of tuples in a list."
      ],
      "metadata": {
        "id": "t4bF7jFLmUb3"
      }
    },
    {
      "cell_type": "code",
      "source": [
        "def replace_last_value_in_tuple(tup, new_value):\n",
        "    modified_tuple = tup[:-1] + (new_value,)\n",
        "    return modified_tuple\n",
        "\n",
        "example_tuple = (1, 'a', True)\n",
        "new_value = 'replaced'\n",
        "modified_tuple = replace_last_value_in_tuple(example_tuple, new_value)\n",
        "print(modified_tuple)"
      ],
      "metadata": {
        "colab": {
          "base_uri": "https://localhost:8080/"
        },
        "id": "P5-7byZ8qQQE",
        "outputId": "1161b843-b22b-4ebf-dc5a-38157f394fb3"
      },
      "execution_count": 5,
      "outputs": [
        {
          "output_type": "stream",
          "name": "stdout",
          "text": [
            "(1, 'a', 'replaced')\n"
          ]
        }
      ]
    },
    {
      "cell_type": "markdown",
      "source": [
        "18. Write a Python program to sort a tuple by its float element."
      ],
      "metadata": {
        "id": "eBPWGROlmYmD"
      }
    },
    {
      "cell_type": "code",
      "source": [
        "def sort_tuple_by_float(tuples):\n",
        "    # Sort the tuple by the float element in each inner tuple\n",
        "    sorted_tuples = tuple(sorted(tuples, key=lambda x: x[1]))\n",
        "    return sorted_tuples\n",
        "\n",
        "example_tuples = ((1, 2.5), (2, 1.3), (3, 3.7))\n",
        "sorted_tuples = sort_tuple_by_float(example_tuples)\n",
        "\n",
        "print(sorted_tuples)"
      ],
      "metadata": {
        "colab": {
          "base_uri": "https://localhost:8080/"
        },
        "id": "Mg_0kysgdMwy",
        "outputId": "bc1dff84-5c93-4e92-f397-49e1c1e3f465"
      },
      "execution_count": 8,
      "outputs": [
        {
          "output_type": "stream",
          "name": "stdout",
          "text": [
            "((2, 1.3), (1, 2.5), (3, 3.7))\n"
          ]
        }
      ]
    }
  ]
}