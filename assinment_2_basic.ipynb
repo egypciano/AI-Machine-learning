{
  "nbformat": 4,
  "nbformat_minor": 0,
  "metadata": {
    "colab": {
      "private_outputs": true,
      "provenance": [],
      "gpuType": "T4"
    },
    "kernelspec": {
      "name": "python3",
      "display_name": "Python 3"
    },
    "language_info": {
      "name": "python"
    }
  },
  "cells": [
    {
      "cell_type": "markdown",
      "source": [
        "# Python program to interchange first and last elements in a list\n"
      ],
      "metadata": {
        "id": "9NXyYtIAQuIG"
      }
    },
    {
      "cell_type": "markdown",
      "source": [
        "- Examples\n",
        "\n",
        "- Input : [12, 35, 9, 56, 24]\n",
        "- Output : [24, 35, 9, 56, 12]\n",
        "\n",
        "- Input : [1, 2, 3]\n",
        "- Output : [3, 2, 1]"
      ],
      "metadata": {
        "id": "Y8j1uUT8Q6Xf"
      }
    },
    {
      "cell_type": "code",
      "source": [
        "my_list1=[12,35,9,56,24]\n",
        "my_list1.reverse()\n",
        "print(my_list1)"
      ],
      "metadata": {
        "id": "EE_5xfNErt-r"
      },
      "execution_count": null,
      "outputs": []
    },
    {
      "cell_type": "markdown",
      "source": [
        "- Input: lst = [10,20,30,40]\n",
        "- Output: 4\n",
        "- Explanation: The output is 4 because thelength of the list is  4."
      ],
      "metadata": {
        "id": "AapkQMkGRqqg"
      }
    },
    {
      "cell_type": "code",
      "source": [
        "my_list2=[10,20,30,40]\n",
        "print(len(my_list2))"
      ],
      "metadata": {
        "id": "jUA6GuYNsKw8"
      },
      "execution_count": null,
      "outputs": []
    },
    {
      "cell_type": "markdown",
      "source": [
        "### Python | Find elements of a list by indices\n",
        "- Input : lst1 = [10, 20, 30, 40, 50]\n",
        "-        lst2 = [0, 2, 4]\n",
        "- Output : [10, 30, 50]"
      ],
      "metadata": {
        "id": "Y-XZTe1ES7pJ"
      }
    },
    {
      "cell_type": "code",
      "source": [
        "my_list3=[10,20,30,40,50]\n",
        "print(my_list3[0],my_list3[2],my_list3[4])\n"
      ],
      "metadata": {
        "id": "hyZ9P1gRscQm"
      },
      "execution_count": null,
      "outputs": []
    },
    {
      "cell_type": "markdown",
      "source": [
        "# Python program to find the String in a List\n"
      ],
      "metadata": {
        "id": "3fmiplSXTmN-"
      }
    },
    {
      "cell_type": "markdown",
      "source": [
        "- Input: l=[1, 1.0, 'have', 'a', 'geeky', 'day']; s='geeky'\n",
        "- Output: True\n",
        "- Explanation: geeky is present in the input list"
      ],
      "metadata": {
        "id": "0HdTN1z3TpYH"
      }
    },
    {
      "cell_type": "code",
      "source": [
        "input1=[1,1.0,'a','geeky']\n",
        "print('khaled' in input1)"
      ],
      "metadata": {
        "id": "grnG9Kv4_0uY"
      },
      "execution_count": null,
      "outputs": []
    },
    {
      "cell_type": "code",
      "source": [
        "def find_string_in_list(my_string,list5):\n",
        "    return my_string in list5\n",
        "\n",
        "\n",
        "list5=[1,1.0,'have','a','geeky','day']\n",
        "my_string='geeky'\n",
        "if find_string_in_list(my_string,list5):\n",
        "  print(True)\n",
        "else:\n",
        "    print(False)"
      ],
      "metadata": {
        "id": "IrPt9AXXvoB6"
      },
      "execution_count": null,
      "outputs": []
    },
    {
      "cell_type": "markdown",
      "source": [
        "## Ways to find indices of value in list\n",
        "\n",
        "\n",
        "- list of animals\n",
        "- Animals= [\"cat\", \"dog\", \"tiger\"]\n",
        "- searching positiion of dog\n",
        "- output is 1"
      ],
      "metadata": {
        "id": "WI5-sy7eU9Gm"
      }
    },
    {
      "cell_type": "code",
      "source": [
        "list6=[\"cat\",\"dog\",\"tiger\"]\n",
        "my_target=\"dog\"\n",
        "print(\"the dog index is : \",list6.index(my_target))"
      ],
      "metadata": {
        "id": "pLI8QTU6AwF_"
      },
      "execution_count": null,
      "outputs": []
    },
    {
      "cell_type": "markdown",
      "source": [
        "### Find most frequent element in a list\n",
        "- Input : [2, 1, 2, 2, 1, 3]\n",
        "- Output : 2\n",
        "\n",
        "- Input : ['Dog', 'Cat', 'Dog']\n",
        "- Output : Dog"
      ],
      "metadata": {
        "id": "-WY6GZpgVjs-"
      }
    },
    {
      "cell_type": "code",
      "source": [
        "def most_frequent_element(lst):\n",
        "    count_dict = {}\n",
        "    for item in lst:\n",
        "        if item in count_dict:\n",
        "            count_dict[item] += 1\n",
        "        else:\n",
        "            count_dict[item] = 1\n",
        "    most_frequent = max(count_dict, key=count_dict.get)\n",
        "\n",
        "    return most_frequent\n",
        "\n",
        "print(most_frequent_element([2, 1, 2, 2, 1, 3]))\n",
        "print(most_frequent_element(['Dog', 'Cat', 'Dog']))"
      ],
      "metadata": {
        "id": "bWUyboMfEUvX"
      },
      "execution_count": null,
      "outputs": []
    },
    {
      "cell_type": "markdown",
      "source": [
        "- hint you can use max in python"
      ],
      "metadata": {
        "id": "iplk5uDKfiye"
      }
    },
    {
      "cell_type": "markdown",
      "source": [
        "## Remove an Item from the List in Python.\n",
        "- Input: ['Rose',' Lily', 'Lotus', 'Sun', 'Sunflower']\n",
        "- Delete: 'Sun'\n",
        "- Output: ['Rose',' Lily', 'Lotus', 'Sunflower']\n",
        "- Explanation: In this, we have removed the 'Sun' element from the given list"
      ],
      "metadata": {
        "id": "-vF6f8UQZIgq"
      }
    },
    {
      "cell_type": "code",
      "source": [
        "list8=[\"rose\",\"lily\",\"lotus\",\"khaled\"]\n",
        "list8.remove(\"khaled\")\n",
        "print(list8)"
      ],
      "metadata": {
        "id": "z85lF0B-Grya"
      },
      "execution_count": null,
      "outputs": []
    },
    {
      "cell_type": "markdown",
      "source": [
        "# Remove multiple elements from a list in Python\n",
        "- Input: [12, 15, 3, 10]\n",
        "- Output: Remove = [12, 3], New_List = [15, 10]\n",
        "\n",
        "- Input: [11, 5, 17, 18, 23, 50]\n",
        "- Output: Remove = [1:5], New_list = [11, 50]"
      ],
      "metadata": {
        "id": "l_YTnBftZe7V"
      }
    },
    {
      "cell_type": "code",
      "source": [
        "list9=[12,15,3,10]\n",
        "list9.remove(12)\n",
        "list9.remove(3)\n",
        "print(list9)"
      ],
      "metadata": {
        "id": "LmS89rvUHdCt"
      },
      "execution_count": null,
      "outputs": []
    },
    {
      "cell_type": "markdown",
      "source": [
        "# python program to check whether the string is Palindrome  and get the str from user"
      ],
      "metadata": {
        "id": "yYoINEUvcG4-"
      }
    },
    {
      "cell_type": "markdown",
      "source": [
        "\n",
        "\n",
        "```\n",
        "# This is formatted as code\n",
        "```\n",
        "\n",
        "- Input : malayalam\n",
        "- Output : True\n",
        "\n",
        "- Input : geeks\n",
        "- Output : False"
      ],
      "metadata": {
        "id": "ARhC7ZL6cvjO"
      }
    },
    {
      "cell_type": "code",
      "source": [
        "def is_palindrome(s):\n",
        "    s = s.replace(\" \", \"\").lower()\n",
        "    return s == s[::-1]\n",
        "user_input = input(\"Enter a string: \")\n",
        "result = is_palindrome(user_input)\n",
        "print(result)"
      ],
      "metadata": {
        "id": "JBA13ZivLoby"
      },
      "execution_count": null,
      "outputs": []
    },
    {
      "cell_type": "markdown",
      "source": [
        "### Reverse Words in a Given String in Python\n",
        "- Input : str =\" geeks quiz practice code\"\n",
        "- Output : str = code practice quiz geeks  \n",
        "- Input : str = \"my name is laxmi\"\n",
        "- output : str= laxmi is name my"
      ],
      "metadata": {
        "id": "_EYlmszadOww"
      }
    },
    {
      "cell_type": "code",
      "source": [
        "str1=\"geeks\",\"quiz\",\"practice\",\"code\"\n",
        "new_one=str1[::-1]\n",
        "print(new_one)"
      ],
      "metadata": {
        "id": "XPRD3_AjLpng"
      },
      "execution_count": null,
      "outputs": []
    },
    {
      "cell_type": "markdown",
      "source": [
        "### Find length of a string in python\n",
        "- Input : 'abc'\n",
        "- Output : 3\n",
        "\n",
        "- Input : 'hello world !'\n",
        "- Output : 13\n",
        "\n",
        "- Input : ' h e l   l  o '\n",
        "- Output :14"
      ],
      "metadata": {
        "id": "242TCJPleCof"
      }
    },
    {
      "cell_type": "code",
      "source": [
        "str2='abc'\n",
        "print(len(str2))\n",
        "str3= ' h e l l o '\n",
        "print(len(str3))\n",
        "str4= 'hello world !'\n",
        "print(len(str4))"
      ],
      "metadata": {
        "id": "4qOP8h7GN9ao"
      },
      "execution_count": null,
      "outputs": []
    },
    {
      "cell_type": "markdown",
      "source": [
        "###  Avoid Spaces in string length\n",
        "\n",
        "\n",
        "```\n",
        "- string = \"Hello, world!  \"\n",
        "- with space 15\n",
        "- without space is 12\n",
        "```\n",
        "\n",
        "\n"
      ],
      "metadata": {
        "id": "rE_STqG_fFJs"
      }
    },
    {
      "cell_type": "code",
      "source": [
        "str5= \"Hello, world!  \"\n",
        "without_spc=str5.replace(\" \",\"\")\n",
        "print(without_spc)\n",
        "print(len(str5))\n",
        "print(len(without_spc))\n"
      ],
      "metadata": {
        "id": "4PA9xnwjOtV4"
      },
      "execution_count": null,
      "outputs": []
    },
    {
      "cell_type": "markdown",
      "source": [
        "-  hint you can use len in python to get len of str or list"
      ],
      "metadata": {
        "id": "zRnIlNqSf3ni"
      }
    },
    {
      "cell_type": "markdown",
      "source": [
        "# Smallest Length String in the list\n",
        "- test_list = ['gfg', 'is', 'best', 'for', 'geeks']\n",
        "- Minimum length string is : is\n"
      ],
      "metadata": {
        "id": "FebQFluegBW2"
      }
    },
    {
      "cell_type": "code",
      "source": [
        "list12=['gdg','is','best','for']\n",
        "new_list_12=min(list12,key=len)\n",
        "print(\"the smallest lenght is : \",new_list_12)"
      ],
      "metadata": {
        "id": "1opWkavtP83c"
      },
      "execution_count": null,
      "outputs": []
    },
    {
      "cell_type": "markdown",
      "source": [
        "-  hint you can use min in python"
      ],
      "metadata": {
        "id": "Nn_2JLRJgZ3h"
      }
    }
  ]
}