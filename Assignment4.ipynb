{
  "nbformat": 4,
  "nbformat_minor": 0,
  "metadata": {
    "colab": {
      "provenance": []
    },
    "kernelspec": {
      "name": "python3",
      "display_name": "Python 3"
    },
    "language_info": {
      "name": "python"
    }
  },
  "cells": [
    {
      "cell_type": "markdown",
      "source": [
        "Task 1 :Write a Python program to create a calculator class. Include methods for basic arithmetic\n",
        "operations"
      ],
      "metadata": {
        "id": "SsG0OdaGInkC"
      }
    },
    {
      "cell_type": "code",
      "source": [
        "class calculator:\n",
        "    def add(self,a,b):\n",
        "        return a+b\n",
        "    def sub(self,a,b):\n",
        "        return a-b\n",
        "    def multi(self,a,b):\n",
        "        return a*b\n",
        "    def divi(self,a,b):\n",
        "        if a!=0:\n",
        "            return a/b\n",
        "        else:\n",
        "            print(\"error\")\n",
        "calc=calculator()\n",
        "print(calc.add(5,2))\n",
        "print(calc.sub(5,2))\n",
        "print(calc.multi(5,2))\n",
        "print(calc.divi(5,2))"
      ],
      "metadata": {
        "colab": {
          "base_uri": "https://localhost:8080/"
        },
        "id": "-p-_yCahIwdn",
        "outputId": "629bf396-d5d2-4367-d277-13f95b32bf5b"
      },
      "execution_count": null,
      "outputs": [
        {
          "output_type": "stream",
          "name": "stdout",
          "text": [
            "7\n",
            "3\n",
            "10\n",
            "2.5\n"
          ]
        }
      ]
    },
    {
      "cell_type": "markdown",
      "source": [
        "Task 2: Rectangle class:\n",
        "1. Write a Rectangle class in Python language, allowing you to build a rectangle with length and width\n",
        "attributes.\n",
        "2. Create a Perimeter() method to calculate the perimeter of the rectangle and a Area() method to\n",
        "calculate the area of the rectangle.\n",
        "3. Create a method display() that display the length, width, perimeter and area of an object created\n",
        "using an instantiation on rectangle class.\n",
        "4. Create a Parallelepipede child class inheriting from the Rectangle class and with a height attribute\n",
        "and another Volume() method to calculate the volume of the Parallelepiped."
      ],
      "metadata": {
        "id": "a0Aojn6pKjXy"
      }
    },
    {
      "cell_type": "code",
      "source": [
        "class rectangular():\n",
        "    def __init__(self,width,length):\n",
        "        self.width=width\n",
        "        self.length=length\n",
        "    def perimeter(self):\n",
        "        return 2*(self.width+self.length)\n",
        "    def area(self):\n",
        "        return self.width*self.length\n",
        "    def display(self):\n",
        "        print(f\"length:{self.length}\")\n",
        "        print(f\"width:{self.width}\")\n",
        "        print(f\"area is :{self.area()}\")\n",
        "        print(f\"perimeter is : {self.perimeter()}\")\n",
        "class parallelepipede(rectangular):\n",
        "    def __init__(self,width,lenght,height):\n",
        "        super().__init__(width,lenght)\n",
        "        self.height=height\n",
        "    def volume (self):\n",
        "        return self.area()*self.height\n",
        "calc=rectangular(5,2)\n",
        "calc.display()\n",
        "print()\n",
        "calc1=parallelepipede(5,2,5)\n",
        "calc1.display()\n",
        "print(f\"the volume is :{calc1.volume()}\")\n",
        "print(f\"the height is :{calc1.height}\")\n",
        "print(f\"the volume is :{calc1.volume()}\")\n"
      ],
      "metadata": {
        "colab": {
          "base_uri": "https://localhost:8080/"
        },
        "id": "LQSvm_8qLsHB",
        "outputId": "61874d78-1afc-498a-ed70-961f8d287baf"
      },
      "execution_count": null,
      "outputs": [
        {
          "output_type": "stream",
          "name": "stdout",
          "text": [
            "length:2\n",
            "width:5\n",
            "area is :10\n",
            "perimeter is : 14\n",
            "\n",
            "length:2\n",
            "width:5\n",
            "area is :10\n",
            "perimeter is : 14\n",
            "the volume is :50\n",
            "the height is :5\n",
            "the volume is :50\n"
          ]
        }
      ]
    },
    {
      "cell_type": "markdown",
      "source": [
        "Create a Python class Person with attributes: name and age of type string.\n",
        "1. Create a display() method that displays the name and age of an object created via the Person class.\n",
        "2. Create a child class Student which inherits from the Person class and which also has a section\n",
        "attribute.\n",
        "3. Create a method displayStudent() that displays the name, age and section of an object created via the\n",
        "Student class.\n",
        "4. Create a student object via an instantiation on the Student class and then test the displayStudent\n",
        "method."
      ],
      "metadata": {
        "id": "M8V268wPzAfg"
      }
    },
    {
      "cell_type": "code",
      "source": [
        "class person():\n",
        "    def __init__(self,name,age):\n",
        "        self.name=name\n",
        "        self.age=age\n",
        "    def display(self):\n",
        "        print(f\"Name:{self.name}\")\n",
        "        print(f\"Age:{self.age}\")\n",
        "class student(person):\n",
        "    def __init__(self,name,age,section):\n",
        "        super().__init__(name,age)\n",
        "        self.section=section\n",
        "    def display_student(self):\n",
        "        print(f\"Name:{self.name}\")\n",
        "        print(f\"Age:{self.age}\")\n",
        "        print(f\"section:{self.section}\")\n",
        "student1=student(\"khaled\",\"30\",\"A\")\n",
        "student1.display_student()\n"
      ],
      "metadata": {
        "colab": {
          "base_uri": "https://localhost:8080/"
        },
        "id": "1utySgpIzB3T",
        "outputId": "374ca784-2d47-4e53-b7b0-615d5355eeb9"
      },
      "execution_count": 1,
      "outputs": [
        {
          "output_type": "stream",
          "name": "stdout",
          "text": [
            "Name:khaled\n",
            "Age:30\n",
            "section:A\n"
          ]
        }
      ]
    }
  ]
}