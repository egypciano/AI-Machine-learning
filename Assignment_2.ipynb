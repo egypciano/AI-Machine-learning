{
  "nbformat": 4,
  "nbformat_minor": 0,
  "metadata": {
    "colab": {
      "private_outputs": true,
      "provenance": []
    },
    "kernelspec": {
      "name": "python3",
      "display_name": "Python 3"
    },
    "language_info": {
      "name": "python"
    }
  },
  "cells": [
    {
      "cell_type": "markdown",
      "source": [
        "### 1) Write a program to print the maximum between two numbers. (one-line conditional statement)\n"
      ],
      "metadata": {
        "id": "Ui8LKXjlii3V"
      }
    },
    {
      "cell_type": "code",
      "source": [
        "print(max(5,6))"
      ],
      "metadata": {
        "id": "xSLWhxEH-OZ9"
      },
      "execution_count": null,
      "outputs": []
    },
    {
      "cell_type": "markdown",
      "source": [
        "### 2) Write a program to find the maximum between three numbers.\n"
      ],
      "metadata": {
        "id": "xQB_yP4rirZS"
      }
    },
    {
      "cell_type": "code",
      "source": [
        "list_numbers=[5,6,8]\n",
        "max=max(list_numbers)\n",
        "print(max)"
      ],
      "metadata": {
        "id": "MYIc7oXG-WUA"
      },
      "execution_count": null,
      "outputs": []
    },
    {
      "cell_type": "markdown",
      "source": [
        "### 3) Write a program to check whether a number is negative, or positive (one-line conditional statement)\n"
      ],
      "metadata": {
        "id": "di3xEq8mjBRK"
      }
    },
    {
      "cell_type": "code",
      "source": [
        "a=-1\n",
        "print(\"positive\") if a>0 else print(\"negative\")\n",
        ""
      ],
      "metadata": {
        "id": "QISDbu9X-7aq"
      },
      "execution_count": null,
      "outputs": []
    },
    {
      "cell_type": "markdown",
      "source": [
        "### 4) Write a  program to check whether a number is even or odd  (one-line statement).\n"
      ],
      "metadata": {
        "id": "grc5Gk_RjFBe"
      }
    },
    {
      "cell_type": "code",
      "source": [
        "a=5\n",
        "print(\"even\") if a % 2==0 else print(\"odd\")"
      ],
      "metadata": {
        "id": "Wt2R8zteCEiC"
      },
      "execution_count": null,
      "outputs": []
    },
    {
      "cell_type": "markdown",
      "source": [
        "###5) Write a  program to check whether a year is a leap year or not. (one-line conditional statement).\n"
      ],
      "metadata": {
        "id": "-J3UtjpIjJPv"
      }
    },
    {
      "cell_type": "code",
      "source": [
        "year=2023\n",
        "print(\"a year is aleap year\") if year % 4==0 else print(\"a year is not aleap year\")"
      ],
      "metadata": {
        "id": "nzn8kBWvDWlM"
      },
      "execution_count": null,
      "outputs": []
    },
    {
      "cell_type": "markdown",
      "source": [
        "###6) Write a  program to store the weekdays in a list and access the week day and print it by index.\n"
      ],
      "metadata": {
        "id": "JeN4yaIMjNlC"
      }
    },
    {
      "cell_type": "code",
      "source": [
        "weekdays=[\"sat\",\"sun\",\"mon\",\"tuesday\",\"wednesday\",\"thursday\",\"friday\"]\n",
        "print(\"the acces days is = \", weekdays[0])"
      ],
      "metadata": {
        "id": "gmazdEK9J1rL"
      },
      "execution_count": null,
      "outputs": []
    },
    {
      "cell_type": "markdown",
      "source": [
        "###7) Write a  program to print all alphabets from a to z using while loop"
      ],
      "metadata": {
        "id": "ST7uKJmtjYh1"
      }
    },
    {
      "cell_type": "code",
      "source": [
        "alphapets=[\"a\",\"b\",\"c\",\"d\",\"e\",\"f\",\"g\",\"h\",\"i\",\"j\",\"k\",\"l\",\"m\",\"n\",\"o\",\"p\",\"q\",\"r\",\"s\",\"t\",\"u\",\"v\",\"w\",\"x\",\"y\",\"z\"]\n",
        "count=0\n",
        "while count<len(alphapets):\n",
        "  print(alphapets[count])\n",
        "  count +=1"
      ],
      "metadata": {
        "id": "S327uefKEgZk"
      },
      "execution_count": null,
      "outputs": []
    },
    {
      "cell_type": "markdown",
      "source": [
        "###8)Write a program to store numbers in the List and print its reverse"
      ],
      "metadata": {
        "id": "PkPPTrivjran"
      }
    },
    {
      "cell_type": "code",
      "source": [
        "list_number = [1,2,3,4,5,6]\n",
        "list_number.reverse()\n",
        "print(list_number)"
      ],
      "metadata": {
        "id": "NnjVHW8jHP4g"
      },
      "execution_count": null,
      "outputs": []
    },
    {
      "cell_type": "markdown",
      "source": [
        "Write a program to print the multiplcation table of any number"
      ],
      "metadata": {
        "id": "2JoHNIaCj7fR"
      }
    },
    {
      "cell_type": "code",
      "source": [
        "number = int(input(\"Enter the number to display its multiplication table: \"))\n",
        "print(f\"Multiplication Table for {number}:\")\n",
        "for i in range(1, 11):\n",
        "    print(f\"{number} x {i} = {number * i}\")"
      ],
      "metadata": {
        "id": "nmvsVsnqapZW"
      },
      "execution_count": null,
      "outputs": []
    },
    {
      "cell_type": "markdown",
      "source": [
        "10)Write a program to print all even numbers between 1 to 100.(using while loop)"
      ],
      "metadata": {
        "id": "WTIX9yh1kLs-"
      }
    },
    {
      "cell_type": "code",
      "execution_count": null,
      "metadata": {
        "id": "i5fTGY3Qib9Y"
      },
      "outputs": [],
      "source": [
        "x = 1\n",
        "while x < 101:\n",
        "    if x % 2 != 0:\n",
        "        x += 1\n",
        "        continue\n",
        "    print(x)\n",
        "    x += 1"
      ]
    }
  ]
}